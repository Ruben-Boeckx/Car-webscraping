{
 "cells": [
  {
   "cell_type": "code",
   "execution_count": 13,
   "metadata": {},
   "outputs": [],
   "source": [
    "import requests\n",
    "from bs4 import BeautifulSoup"
   ]
  },
  {
   "cell_type": "code",
   "execution_count": 39,
   "metadata": {},
   "outputs": [
    {
     "name": "stdout",
     "output_type": "stream",
     "text": [
      "Item 1: 172.000 km\n",
      "Item 2: Manueel\n",
      "Item 3: 09/2005\n",
      "Item 4: Benzine\n",
      "Item 5: 70 kW (95 PK)\n",
      "Item 6: Autobedrijf\n"
     ]
    }
   ],
   "source": [
    "import requests\n",
    "from bs4 import BeautifulSoup\n",
    "\n",
    "# URL of the webpage you want to scrape\n",
    "url = \"https://www.autoscout24.be/nl/aanbod/mercedes-benz-b-150-classic-airco-benzine-zwart-c97b2c51-14c3-47b7-a6a8-077540ce5fec?sort=standard&desc=0&lastSeenGuidPresent=true&cldtidx=4&position=4&search_id=h9gvu58sb5&source_otp=t10&ap_tier=t10&source=listpage_search-results&order_bucket=2&new_taxonomy_available=true\"\n",
    "\n",
    "# Send a GET request to the webpage\n",
    "response = requests.get(url)\n",
    "\n",
    "# Check if the request was successful\n",
    "if response.status_code == 200:\n",
    "    # Parse the HTML content using BeautifulSoup\n",
    "    soup = BeautifulSoup(response.content, 'html.parser')\n",
    "    \n",
    "    # Find all elements with the class 'VehicleOverview_itemText__AI4dA'\n",
    "    data_items = soup.find_all('div', class_='VehicleOverview_itemText__AI4dA')\n",
    "    \n",
    "    # Extract and print the text content from each element\n",
    "    for index, item in enumerate(data_items, start=1):\n",
    "        item_text = item.text.strip()\n",
    "        print(f\"Item {index}: {item_text}\")\n",
    "else:\n",
    "    print(f\"Failed to retrieve the webpage. Status code: {response.status_code}\")\n"
   ]
  },
  {
   "cell_type": "code",
   "execution_count": null,
   "metadata": {},
   "outputs": [],
   "source": []
  },
  {
   "cell_type": "code",
   "execution_count": 54,
   "metadata": {},
   "outputs": [
    {
     "name": "stdout",
     "output_type": "stream",
     "text": [
      "Item 1: CarrosserietypeMonovolumeCategorieTweedehandsAandrijvingVoorAantal stoelen5Deuren5\n",
      "Item 2: Kilometerstand172.000 kmBouwjaar09/2005Vorige eigenaren2\n",
      "Item 3: Vermogen70 kW (95 PK)TransmissieManueelCilinderinhoud1.498 cm³Versnellingen5Cilinders4Gewicht1.300 kg\n",
      "Item 4: EmissieklasseEuro 4BrandstofBenzineBrandstofverbruik6,6 l/100 km (comb.)CO2-emissie158 g/km (comb.)\n",
      "Item 5: Comfort en gemakAchterbank 1/3 - 2/3AirconditioningElektrisch verstelbare buitenspiegelsElektrische ruitenMultifunctioneel stuurEntertainment en MediaBoordcomputerCDRadioVeiligheidABSAirbag bestuurderAirbag passagierAutomatische Tractie ControleCentrale deurvergrendeling met afstandsbedieningCentrale vergrendelingElectronic Stability ProgramHoofd airbagMistlampenStartonderbrekerStuurbekrachtigingZij-airbagsExtraLichtmetalen velgenNoodwielToon meer\n",
      "Item 6: KoetswerkkleurZwartSoort lakMetallicKleur interieurBeigeInterieurStof\n",
      "Item 7: AUTOMOBILE AZ est une société familiale (père et fils) spécialisé dans l'achat et la vente de véhicule d'occasion, avec presque 30 ans d'expérience. Avec un service personalisé à la hauteur de l'attente de chaque client, avec un service après-vente rapide et efficace. Chez nous vous n'achetez pas juste une voiture, mais votre voiture de rêve dans un environnement professionnel et amicale.Acheter chez Automobile AZ des voitures super chouette!!!Vehicule destinée a la vente marchand ou exportation.Nous recevons toujours sur RENDEZ-VOUS: TEL - 0032/474.77.31.68Lu - Ma - Mer - Jeu - Ven - Sam de 9h a 18h SUR RENDEZ-VOUSmerciSous réserve d'erreurs de frappe, l'annonce n'est pas contraignante.----------------------------------------------------------------------AUTOMOBILE AZ is een familie bedrijf (vader en zoon), gespecializeerd in aankoop en verkoop van tweedehandswagens met bijna 30 jaar ervaring. Met een gepersonaliseerde service ten op zichte van de verwachtingen van iedere klant, met een snelle en doeltreffende na-verkoop dienst. Bij ons koopt u niet alleen een wagen, maar uw droomwagen in een professionele en vriendelijke omgeving.Bij Automobile AZ een wagen aan ieders budget!!!Wagen wordt uitsluitend te koop gesteld voor handelaars of export.Wij ontvangen altijd op AFSPRAAK: TEL - 0032/474.77.31.68Ma - Din - Woe - Don - Vrij - Zat van 9u tot 18u OP AFSPRAAKDank uOndervoorbehoud van typfouten, advertentie is niet bindend.\n",
      "Item 8: Momenteel is er voor dit voertuig geen prijsevaluatie beschikbaar.\n",
      "Item 9: Exclusieve leasing aanbieding van Automobile AZEenmalige kostenAanbetaling€ 0,-shared.listItem.leasing.transferCostKeine Angabeshared.listItem.leasing.registrationCostKeine Angabedetailpage.leasing.total€ 0,-Algemene gegevensContract typeKilometerleasingKilometerstand p.a.10.000 kmMaandelijkse kostenDuratie48 MonateMaandelijkse afbetaling€ 339,24Aanvullende informatieLaatste termijn€ 0,-TIPDit factuur is een voorbeeld - u kunt uw voorkeurstarief met de dealer bespreken en een individueel leaseaanbod afsluiten.detailpage.leasing.loanBrokerage Mobilize Financial Services - Marke der RCI Banque S. A. Niederlassung Deutschland, Jagenbergstraße 1, 41468 NeussDie Angaben entsprechen zugleich dem 2/3 Beispiel nach § 6a Abs. 3 PAngV.Toon meer\n",
      "Item 10: Ontdek je prijs in 3 minuten Bijstand 24/7Weinig rijden, minder betalenBereken uw prijs*Meer info en productfiche op axa.be. Comfort Auto is de autoverzekering van AXA Belgium\n"
     ]
    }
   ],
   "source": [
    "import requests\n",
    "from bs4 import BeautifulSoup\n",
    "\n",
    "# URL of the webpage you want to scrape\n",
    "url = \"https://www.autoscout24.be/nl/aanbod/mercedes-benz-b-150-classic-airco-benzine-zwart-c97b2c51-14c3-47b7-a6a8-077540ce5fec?sort=standard&desc=0&lastSeenGuidPresent=true&cldtidx=4&position=4&search_id=h9gvu58sb5&source_otp=t10&ap_tier=t10&source=listpage_search-results&order_bucket=2&new_taxonomy_available=true\"\n",
    "\n",
    "# Send a GET request to the webpage\n",
    "response = requests.get(url)\n",
    "\n",
    "# Check if the request was successful\n",
    "if response.status_code == 200:\n",
    "    # Parse the HTML content using BeautifulSoup\n",
    "    soup = BeautifulSoup(response.content, 'html.parser')\n",
    "    \n",
    "    # Find all elements with the class 'VehicleOverview_itemText__AI4dA'\n",
    "    data_items = soup.find_all('div', class_='DetailsSection_childrenSection__aElbi')\n",
    "    \n",
    "    # Extract and print the text content from each element\n",
    "    for index, item in enumerate(data_items, start=1):\n",
    "        item_text = item.text.strip()\n",
    "        print(f\"Item {index}: {item_text}\")\n",
    "else:\n",
    "    print(f\"Failed to retrieve the webpage. Status code: {response.status_code}\")"
   ]
  },
  {
   "cell_type": "code",
   "execution_count": 63,
   "metadata": {},
   "outputs": [
    {
     "name": "stdout",
     "output_type": "stream",
     "text": [
      "Carrosserie: Monovolume\n",
      "Categorie: Tweedehands\n",
      "Aandrijving: Voor\n",
      "Aantal stoelen: 5\n",
      "Deuren: 5\n"
     ]
    }
   ],
   "source": [
    "import re\n",
    "\n",
    "def parse_car_details_regex(text):\n",
    "    # Find values using regex patterns\n",
    "    patterns = {\n",
    "        'Carrosserie': r'Carrosserietype(\\w+)Categorie',\n",
    "        'Categorie': r'Categorie(\\w+)Aandrijving',\n",
    "        'Aandrijving': r'Aandrijving(\\w+)Aantal',\n",
    "        'Aantal_stoelen': r'Aantal stoelen(\\d+)',\n",
    "        'Deuren': r'Deuren(\\d+)'\n",
    "    }\n",
    "    \n",
    "    results = {}\n",
    "    \n",
    "    # Extract each value using the patterns\n",
    "    for key, pattern in patterns.items():\n",
    "        match = re.search(pattern, text)\n",
    "        results[key] = match.group(1) if match else 'Not found'\n",
    "    \n",
    "    return results\n",
    "\n",
    "# Example usage\n",
    "text = \"CarrosserietypeMonovolumeCategorieTweedehandsAandrijvingVoorAantal stoelen5Deuren5\"\n",
    "results_regex = parse_car_details_regex(text)\n",
    "\n",
    "# Print all results\n",
    "for key, value in results_regex.items():\n",
    "    print(f\"{key.replace('_', ' ')}: {value}\")\n",
    "\n",
    "# If you want to access individual values:\n",
    "# print(\"\\nIndividual access:\")\n",
    "# print(\"Carrosserie:\", results_regex['Carrosserie'])\n",
    "# print(\"Categorie:\", results_regex['Categorie'])\n",
    "# print(\"Aandrijving:\", results_regex['Aandrijving'])\n",
    "# print(\"Aantal stoelen:\", results_regex['Aantal_stoelen'])\n",
    "# print(\"Deuren:\", results_regex['Deuren'])"
   ]
  },
  {
   "cell_type": "code",
   "execution_count": 64,
   "metadata": {},
   "outputs": [
    {
     "data": {
      "text/plain": [
       "'Monovolume'"
      ]
     },
     "execution_count": 64,
     "metadata": {},
     "output_type": "execute_result"
    }
   ],
   "source": [
    "results_regex['Carrosserie']"
   ]
  },
  {
   "cell_type": "code",
   "execution_count": 61,
   "metadata": {},
   "outputs": [
    {
     "name": "stdout",
     "output_type": "stream",
     "text": [
      "Kilometerstand: 172.000 km\n",
      "Bouwjaar: 09/2005\n",
      "Vorige eigenaren: 2\n"
     ]
    }
   ],
   "source": [
    "def parse_car_details_regex(text):\n",
    "    # Updated patterns to match the actual text format\n",
    "    patterns = {\n",
    "        'Kilometerstand': r'Kilometerstand([\\d.,]+ km)Bouwjaar',\n",
    "        'Bouwjaar': r'Bouwjaar(\\d{2}/\\d{4})',\n",
    "        'Vorige eigenaren': r'Vorige eigenaren(\\d+)',\n",
    "    }\n",
    "    \n",
    "    results = {}\n",
    "    \n",
    "    # Extract each value using the patterns\n",
    "    for key, pattern in patterns.items():\n",
    "        match = re.search(pattern, text)\n",
    "        results[key] = match.group(1) if match else 'Not found'\n",
    "    \n",
    "    return results\n",
    "\n",
    "# Example usage\n",
    "text = \"Kilometerstand172.000 kmBouwjaar09/2005Vorige eigenaren2\"\n",
    "results_regex = parse_car_details_regex(text)\n",
    "\n",
    "# Print all results\n",
    "for key, value in results_regex.items():\n",
    "    print(f\"{key}: {value}\")\n",
    "\n",
    "# If you want to clean the kilometerstand (remove km and dots)\n",
    "def clean_kilometer_value(km_string):\n",
    "    return km_string.replace(' km', '').replace('.', '')"
   ]
  }
 ],
 "metadata": {
  "kernelspec": {
   "display_name": "Python 3",
   "language": "python",
   "name": "python3"
  },
  "language_info": {
   "codemirror_mode": {
    "name": "ipython",
    "version": 3
   },
   "file_extension": ".py",
   "mimetype": "text/x-python",
   "name": "python",
   "nbconvert_exporter": "python",
   "pygments_lexer": "ipython3",
   "version": "3.12.2"
  }
 },
 "nbformat": 4,
 "nbformat_minor": 2
}
